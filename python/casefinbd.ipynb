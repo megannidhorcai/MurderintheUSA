{
 "cells": [
  {
   "cell_type": "code",
   "execution_count": null,
   "metadata": {},
   "outputs": [],
   "source": [
    "import pandas as pd\n",
    "from sklearn.decomposition import PCA\n",
    "import matplotlib.pyplot as plt\n",
    "import numpy as np\n",
    "import seaborn as sns\n",
    "\n",
    "import gower\n",
    "\n",
    "# Read in the CSV file\n",
    "df = pd.read_csv('selected_data1.csv')\n",
    "# Filter the dataframe for rows where 'solved' column is 0\n",
    "filtered_df = df[df['Solved'] == 0]\n",
    "\n",
    "# Sample \n",
    "sampled_df = filtered_df.sample(frac=0.0005, random_state=42) "
   ]
  }
 ],
 "metadata": {
  "language_info": {
   "name": "python"
  }
 },
 "nbformat": 4,
 "nbformat_minor": 2
}
